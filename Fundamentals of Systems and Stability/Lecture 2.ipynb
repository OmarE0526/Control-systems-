{
 "cells": [
  {
   "cell_type": "markdown",
   "id": "33ab226d-e2b5-4742-bc94-e9184964bb54",
   "metadata": {},
   "source": [
    "# Transfer Function and Block Diagrams\n"
   ]
  },
  {
   "cell_type": "markdown",
   "id": "1d305c66-2913-4b0d-8e3d-29d5e39ddb93",
   "metadata": {},
   "source": [
    "## Contents\n",
    "\n",
    "### 1. Laplace Transform\n",
    "- **1.1** Development of Laplace Transform\n",
    "- **1.2** Typical Laplace Transforms\n",
    "### 2. Transfer Functions\n",
    "- **2.1** The concept\n",
    "- **2.2** Zeros and Poles\n",
    "### 3. Block Diagrams\n",
    "- **3.1** Concepts\n",
    "- **3.2** Block Diagram Connections\n",
    "- **3.3** Block Diagram Algebra\n",
    "\n"
   ]
  },
  {
   "cell_type": "markdown",
   "id": "34b62be1-8bdd-49cd-859f-7ec1763f3f03",
   "metadata": {},
   "source": [
    "## 1. Laplace Transform\n",
    "\n",
    "### 1.1 Development of Laplace Transform "
   ]
  },
  {
   "cell_type": "markdown",
   "id": "b458d205-6578-47ef-b939-4705af641ffe",
   "metadata": {},
   "source": [
    "Differential equations (like the one below) have multiple solutions as a result of the multiple types of constants you may find when integrating.\n",
    "\n",
    "$$\\frac{d^2x(t)}{dt^2}+\\frac{dx(t)}{dt}+x(t)=0$$\n",
    "\n",
    "Like for this one, you might have a possible solution of \n",
    "\n",
    "$$x(t)=A_1e^{(\\alpha+\\beta i)t}+A_2e^{(\\alpha-\\beta i)t}$$\n",
    "\n",
    "Euler and Laplace's Transform can solve these differential equations in a much easier way."
   ]
  },
  {
   "cell_type": "markdown",
   "id": "c0ad0f23-063e-4ba4-956c-042295fbd1cd",
   "metadata": {},
   "source": [
    "**The standard definition of the Laplace Transform is as shown below**\n",
    "\n",
    " <span style=\"color:green\">$$X(s)=L[x(t)]=\\int_0^\\infty x(t)e^{st} dt$$</span>\n",
    "\n",
    " where $$s= \\sigma + j\\omega$$"
   ]
  },
  {
   "cell_type": "markdown",
   "id": "c789d0a1-a32d-4bd0-9857-e8174e3a0d17",
   "metadata": {},
   "source": [
    "#### Understanding the Laplace Transform\n",
    "\n",
    "What this relationship shows is that we originally have a function $x(t)$ that we would insert our differential equation into so that we can first Laplace Transform it $L[x(t)]$. \n",
    "\n",
    "Laplace transforming is a way of rewriting our expression in a more simpler and understandable form, ie. $x(t)$ becomes the Laplace $X(s)$ after it is Laplace Transformed, ie. $L[x(t)]$.\n",
    "\n",
    "To understand the properties of the Laplace Transform, ranging from differentiation to its additive properties, refer to ... *(link)* or the images below.\n"
   ]
  },
  {
   "cell_type": "markdown",
   "id": "48006ae0-fcaa-4558-b715-cf42f378d91f",
   "metadata": {},
   "source": [
    "(images here)"
   ]
  },
  {
   "cell_type": "markdown",
   "id": "01e42162-70f7-4099-82cb-638b8854637e",
   "metadata": {},
   "source": [
    "### 1.2 Typical Laplace Transform\n",
    "\n",
    "The conversions of differential expressions to Laplace Equations which for solving differential equations is as shown below."
   ]
  },
  {
   "cell_type": "markdown",
   "id": "614b4247-fd50-445f-99a3-d543b052bd57",
   "metadata": {},
   "source": [
    "(images here)"
   ]
  },
  {
   "cell_type": "markdown",
   "id": "c3e9b1e9-2540-4033-8ee8-615500125d65",
   "metadata": {},
   "source": [
    "#### Example\n",
    "\n",
    "**1. Solve the differential equations (assuming 0 initial conditions)**\n",
    "\n",
    "**a)** $3\\frac{dx(t)}{dt}+x(t)=\\delta(t)$\n",
    "\n",
    "Here, we are told we have zero initial conditions so we know $x(0)=0$. Using the Laplace Transform Table above with the focus on the Unit Impulse Function, we can transform the output of the function $\\delta(t)==1$ and use the differentiation property that we know of the Laplace Transform to fully transform the differential equation. <span style=\"color:blue\">**This is the first step we take, providing a complete transformation of the equation.** </span>\n",
    "$$3sX(s)+X(s)=1$$\n",
    "This already looks far simpler than our original differential expression. All that is left to do is to <span style=\"color:blue\">**rearrange for X(s),** </span>\n",
    "$$X(s)=\\frac{1}{3s+1}$$\n",
    "<span style=\"color:blue\">**Express it in partial fraction form with no coefficient on $s$ so that we are in the form that is suitable for conversion according to the table,** </span>\n",
    "$$X(s)=\\frac{1}{3} \\frac{1}{s+1/3}$$\n",
    "And finally <span style=\"color:blue\">**convert it back according to the table back into x(t) form.** </span>\n",
    "$$x(t)=\\frac{1}{3}e^{-\\frac{1}{3}t},t\\geq 0$$\n",
    "If you find difficulty with partial fractions, refer to the image below to follow the guidelines. Try it yourself with the second example. "
   ]
  },
  {
   "cell_type": "markdown",
   "id": "aa2189d2-5244-4dd4-8590-432ea8ff2626",
   "metadata": {},
   "source": [
    "(image here)"
   ]
  },
  {
   "cell_type": "markdown",
   "id": "92fd5054-a460-4698-a92a-e4287859050d",
   "metadata": {},
   "source": [
    "## Transfer Functions"
   ]
  },
  {
   "cell_type": "markdown",
   "id": "42410a9f-ba9b-4ce1-aaf8-b31cb34b98fc",
   "metadata": {},
   "source": [
    "### 2.1 The Concept"
   ]
  },
  {
   "cell_type": "markdown",
   "id": "f6c5a794-2706-4392-977a-4bf966d96afa",
   "metadata": {},
   "source": [
    "**Refresher of Week 1 to help process the definition**\n",
    "\n",
    "For an electrical circuit including a capacitor and resistor in series, where the model of the supply voltage $V_i$ and the capacitor's $V_C$ is\n",
    "$$RC\\frac{dV_C}{dt}+V_C=V_i$$\n",
    "We can also take the Laplace transform of both sides assuming 0 initial conditions, and rearrange for $V_C(s)$\n",
    "$$V_C(s)=\\frac{1}{1+RCs}V_i(s)$$\n",
    "where we have it in the form of the output $V_C(s)$ being the product of the input (the supply voltage) and a constant $\\frac{1}{1+RCs}$ that is not dependent on the input but rather other constants $R$ and $C$. This is the transfer function."
   ]
  },
  {
   "cell_type": "markdown",
   "id": "3e198ff9-0b47-4428-a0a4-0d92c337be69",
   "metadata": {},
   "source": [
    "**To put it simply**\n",
    "\n",
    "The transfer function can be seen as the equivalent of the processor of the system that turns an input into a product, where here in this case it is the the multiplier of the input to the output. Assuming 0 initial conditions, any output is the equivalent of the input multiplied to the transfer function. \n",
    "\n",
    "This transfer function can be visualised by a block, which brings us to what we call **Block Diagram Reduction**. This is a process where we simplify an entire control system to a straight forward block diagram, as shown below."
   ]
  },
  {
   "cell_type": "markdown",
   "id": "a0675b35-9164-4da8-91f9-87225c1dcd4e",
   "metadata": {},
   "source": [
    "(image here)"
   ]
  },
  {
   "cell_type": "markdown",
   "id": "2ae03a42-3349-4ce3-999b-ab229fe1937c",
   "metadata": {},
   "source": [
    "#### Other Example Systems"
   ]
  },
  {
   "cell_type": "markdown",
   "id": "8b4bb9a4-2952-4399-8d00-6a6b8e96968d",
   "metadata": {},
   "source": [
    "(images here)"
   ]
  },
  {
   "cell_type": "code",
   "execution_count": null,
   "id": "6ceb9449-1e00-45e7-b6e2-bdf382cafc3e",
   "metadata": {},
   "outputs": [],
   "source": []
  }
 ],
 "metadata": {
  "kernelspec": {
   "display_name": "Python 3 (ipykernel)",
   "language": "python",
   "name": "python3"
  },
  "language_info": {
   "codemirror_mode": {
    "name": "ipython",
    "version": 3
   },
   "file_extension": ".py",
   "mimetype": "text/x-python",
   "name": "python",
   "nbconvert_exporter": "python",
   "pygments_lexer": "ipython3",
   "version": "3.11.7"
  }
 },
 "nbformat": 4,
 "nbformat_minor": 5
}
