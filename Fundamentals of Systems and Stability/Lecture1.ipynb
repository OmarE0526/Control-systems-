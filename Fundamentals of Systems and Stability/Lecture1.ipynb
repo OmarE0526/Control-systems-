{
 "cells": [
  {
   "cell_type": "markdown",
   "id": "fa4041b3-785c-4008-b70c-295d4051ddd6",
   "metadata": {},
   "source": [
    "# Week 1- Modelling of dynamic systems"
   ]
  },
  {
   "cell_type": "markdown",
   "id": "fb1b72bc-d1cf-49e1-88a7-f2d7d2318fb1",
   "metadata": {},
   "source": [
    "# Contents\r\n",
    "\r\n",
    "## 1. Dynamic Systems and Models\r\n",
    "- **1.1** Dynamic Systems and Control  \r\n",
    "- **1.2** Linear and Nonlinear Systems  \r\n",
    "- **1.3** Modelling of Dynamic Systems  \r\n",
    "\r\n",
    "## 2. Responses of Forced Dynamic Systems\r\n",
    "- **2.1** Mathematics  \r\n",
    "- **2.2** Solutions of Linear Models  \r\n"
   ]
  },
  {
   "cell_type": "markdown",
   "id": "e503b783-a3ef-488a-bc10-43b393617c27",
   "metadata": {},
   "source": [
    "# 1. Dynamic Systems and Control\r\n",
    "\r\n",
    "### 1.1 Dynamic Systems and Control\r\n",
    "\r\n",
    "---\r\n",
    "\r\n",
    "### **What is a system (in engineering or science)?**\r\n",
    "\r\n",
    "A **system** is:\r\n",
    "\r\n",
    "> A collection of components that interact with each other and work together to perform a specific goal.\r\n",
    "\r\n",
    "---\r\n",
    "\r\n",
    "### 🛠 In control systems or dynamic systems:\r\n",
    "A **system** is typically a **physical, mechanical, electrical, or biological process** that:\r\n",
    "- **Receives inputs** (e.g., force, voltage, commands),\r\n",
    "- **Processes** them according to some internal dynamics or rules,\r\n",
    "- And **produces outputs** (e.g., motion, temperature, voltage).\r\n",
    "\r\n",
    "---\r\n",
    "\r\n",
    "### 📊 Example Systems:\r\n",
    "\r\n",
    "| System Type        | Input           | System Behavior                    | Output             |\r\n",
    "|--------------------|-----------------|-------------------------------------|---------------------|\r\n",
    "| Car suspension     | Road bump       | Springs + dampers compress          | Car bounces less    |\r\n",
    "| Room heating       | Thermostat temp | Heater turns on/off                 | Room temperature    |\r\n",
    "| Electrical circuit | Voltage source  | Resistors & capacitors interact     | Current flow        |\r\n",
    "| Population model   | Birth/death rate| Mathematical model simulates change| Future population   |\r\n",
    "\r\n",
    "---\r\n"
   ]
  },
  {
   "cell_type": "markdown",
   "id": "ad26ff82-b28d-4f06-8b6d-ad503330388f",
   "metadata": {},
   "source": [
    "![Temperature](thermometer.gif)\n",
    "![Dam](mass_spring_damper.gif)"
   ]
  },
  {
   "cell_type": "markdown",
   "id": "1ea1adfe-f2d5-46e5-9aa4-3c07e411ef40",
   "metadata": {},
   "source": [
    "- A **system** is a group of interacting or interrelated elements that act according to a set of rules to form a unified whole\n",
    "\n",
    "- A **dynamic system** is a part of reality that:\r",
    " evolves as time progresses  is influenced by its environment through inps.\r\n",
    " on its turn influences its environment through outpt\n",
    "- s.**\r\n",
    "A control sy**stem is a dynamic system for which part of the inputs canbe \r\n",
    "manipulated. These inputs are called conr\n",
    "- **Controllers** are typically developed by considering a mathematical model of \n",
    "the system. A mathematical model of a dynamic system is defined as a set of\r\n",
    "equations that represents the dynamics of the system accurately or, at least \r\n",
    "fairly well. The model describes the relationships between the system variable, \r\n",
    "such as input and output variales.ols.\n"
   ]
  },
  {
   "cell_type": "markdown",
   "id": "19176fba-928b-4355-a33e-8c3f76f6951a",
   "metadata": {
    "jp-MarkdownHeadingCollapsed": true
   },
   "source": [
    "## 1.2 Linear and Nonlinear Systems\n",
    "\n",
    "Superposition\n",
    "\n",
    "This property may be expressed as follows: for a **linear system**, if an input  \r",
    "x,) acting alone has an effecty1), and another input _), also acting alone, has an effect _),  \r\n",
    "then with **both inputs acting on the system**, the total effect will be:\r\n",
    "\r\n",
    "$$\r\n",
    "y_1 + y_2\r\n",
    "$$\r\n",
    "\r\n",
    "Thus, if:\r\n",
    "\r\n",
    "$$\r\n",
    "x_1 \\rightarrow y_1 \\quad \\text{and} \\quad x_2 \\rightarrow y_2\r\n",
    "$$\r\n",
    "\r\n",
    "n1 all x1  and \\( x_2 \\):\r\n",
    "\r\n",
    "$$\r\n",
    "x_1 + x_2 \\rightarrow y_1 + y_2\r\n",
    "$$\r\n",
    "row y_1 + y_2\r\n",
    "$\n",
    "### Linearity and Scaling Property of a System\r\n",
    "\r\n",
    "A linear system must satisfy two properties: \r\n",
    "\r\n",
    "1. **Additivity** (Superposition):  \r\n",
    "   If the system responds to inputs $x_1$ and $x_2$, producing outputs $y_1$ and $y_2$ respectively, then for any linear combination of the inputs, the system response should be the same linear combination of the outputs:\r\n",
    "   $$\r\n",
    "   \\text{If } x_1 \\xrightarrow{\\text{system}} y_1 \\text{ and } x_2 \\xrightarrow{\\text{system}} y_2, \r\n",
    "   \\text{ then } (k_1 x_1 + k_2 x_2) \\xrightarrow{\\text{system}} (k_1 y_1 + k_2 y_2)\r\n",
    "   $$\r\n",
    "\r\n",
    "2. **Homogeneity** (Scaling Property):  \r\n",
    "   A system must satisfy the scaling property, which states that for any real or imaginary constant $k$, the response of the system to a scaled input should be the scaled response:\r\n",
    "   $$\r\n",
    "   \\text{If } x \\xrightarrow{\\text{system}} y, \\text{ then } kx \\xrightarrow{\\text{syste### Combined Linearity Expression\r\n",
    "\r\n",
    "The linearity of the system can be expressed as follows:\r\n",
    "\r\n",
    "If the system responds to two inputs as:\r\n",
    "$$\r\n",
    "x_1 \\xrightarrow{\\text{system}} y_1 \\quad \\text{and} \\quad x_2 \\xrightarrow{\\text{system}} y_2,\r\n",
    "$$\r\n",
    "then for all inputs \\(x_1\\), \\(x_2\\) and constants \\(k_1\\), \\(k_2\\), the system satisfies the **linearity property**:\r\n",
    "$$\r\n",
    "k_1 x_1 + k_2 x_2 \\xrightarrow{\\text{system}} k_1 y_1 + k_2 y_2\r\n",
    "$$\r\n",
    "\r\n",
    "This means that for any arbitrary inputs and constants, the system's response to a linear combination of inputs is equal to the same linear combination of the individual responses.\r\n",
    "\r\n",
    "#### Step-by-Step Explanation:\r\n",
    "\r\n",
    "1. **Given**: \r\n",
    "   - \\( x_1 \\xrightarrow{\\text{system}} y_1 \\)  \r\n",
    "   - \\( x_2 \\xrightarrow{\\text{system}} y_2 \\)\r\n",
    "\r\n",
    "2. **Linearity Property**:  \r\n",
    "   - The system satisfies the scaling and additivity (superposition) properties:\r\n",
    "   $$\r\n",
    "   \\text{If } \\quad x_1 \\xrightarrow{\\text{system}} y_1 \\quad \\text{and} \\quad x_2 \\xrightarrow{\\text{system}} y_2,\r\n",
    "   $$ \r\n",
    "   - For any constants \\(k_1\\) and \\(k_2\\), the system must satisfy:\r\n",
    "   $$\r\n",
    "   k_1 x_1 + k_2 x_2 \\xrightarrow{\\text{system}} k_1 y_1 + k_2 y_2\r\n",
    "   $$\r\n",
    "\r\n",
    "This confirms the **linear behavior** of the system, where the response to a weighted sum of inputs is the weighted sum of the responses.\r\n",
    "stem}} k_1 y_1 + k_2 y_2\r\n",
    "$$\r\n",
    "ed Linearity Expression\r\n",
    "\r\n",
    "The linearity of the system can be exprIf \r\n",
    "$$\r",
    "x_1 \\xrightarrow{\\text{system}} y_1 \\quad \\text{and} \\quad x_2 \\xrightarrow{\\text{system}} y_2,\r\n",
    "$$\r\n",
    "then for all inpts\\x_1),\\x_2\\) and constants \\(k_1\\), \\(k_2\\), the system satisfies:\r\n",
    "$$\r\n",
    "k_1 x_1 + k_2 x_2 \\xrightarrow{\\text{system}} k_1 y_1 + k_2 y_2\r\n",
    "$$\r\n",
    "2\r\n",
    "$$\r\n",
    "_2\r\n",
    "$$\r\n",
    "stem}} k_1 y_1 + k_2 y_2\r\n",
    "$$\r\n",
    "tem}} k_1 y_1 + k_2 y_2\r\n",
    "\\]\r\n",
    "2 2 1 1 2 2 k x k x k y k $\r\n",
    "row y_1 + y_2\r\n",
    "\\]\r\n"
   ]
  },
  {
   "cell_type": "markdown",
   "id": "c2ba9b13-e299-443f-a7fd-af0a25e4507b",
   "metadata": {},
   "source": [
    "## 1.3 Modelling of Dynamic Systems"
   ]
  },
  {
   "cell_type": "markdown",
   "id": "ad4fe0f1-42de-4274-ad9f-a25f3156067d",
   "metadata": {},
   "source": [
    "# 2. Responses of Forced Dynamic Systems\n",
    "### 2.1 Mathematics "
   ]
  },
  {
   "cell_type": "markdown",
   "id": "2dbbd0e1-9b08-4bef-b9ee-72cc00cbb575",
   "metadata": {},
   "source": [
    "## 2.2 Solutions of Linear Models"
   ]
  }
 ],
 "metadata": {
  "kernelspec": {
   "display_name": "Python 3 (ipykernel)",
   "language": "python",
   "name": "python3"
  },
  "language_info": {
   "codemirror_mode": {
    "name": "ipython",
    "version": 3
   },
   "file_extension": ".py",
   "mimetype": "text/x-python",
   "name": "python",
   "nbconvert_exporter": "python",
   "pygments_lexer": "ipython3",
   "version": "3.11.7"
  }
 },
 "nbformat": 4,
 "nbformat_minor": 5
}
